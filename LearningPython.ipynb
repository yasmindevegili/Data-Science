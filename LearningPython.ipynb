{
  "nbformat": 4,
  "nbformat_minor": 0,
  "metadata": {
    "colab": {
      "provenance": [],
      "authorship_tag": "ABX9TyNwP6TjwqCaF7/3yiBF8h0Z",
      "include_colab_link": true
    },
    "kernelspec": {
      "name": "python3",
      "display_name": "Python 3"
    },
    "language_info": {
      "name": "python"
    }
  },
  "cells": [
    {
      "cell_type": "markdown",
      "metadata": {
        "id": "view-in-github",
        "colab_type": "text"
      },
      "source": [
        "<a href=\"https://colab.research.google.com/github/yasmindevegili/Data-Science/blob/main/LearningPython.ipynb\" target=\"_parent\"><img src=\"https://colab.research.google.com/assets/colab-badge.svg\" alt=\"Open In Colab\"/></a>"
      ]
    },
    {
      "cell_type": "markdown",
      "source": [
        "Funções"
      ],
      "metadata": {
        "id": "zh1NHjSIWG20"
      }
    },
    {
      "cell_type": "code",
      "execution_count": null,
      "metadata": {
        "id": "Wk_JapWRCxHQ",
        "colab": {
          "base_uri": "https://localhost:8080/"
        },
        "outputId": "137ebda3-8fc8-4a00-e158-641fe9253b0b"
      },
      "outputs": [
        {
          "output_type": "stream",
          "name": "stdout",
          "text": [
            "1\n"
          ]
        }
      ],
      "source": [
        "def double(x):\n",
        "  return x*2\n",
        "\n",
        "def apply_to_one(f):\n",
        "  return 1\n",
        "\n",
        "my_double = double\n",
        "x = apply_to_one(my_double)\n",
        "\n",
        "print(f\"{x}\")"
      ]
    },
    {
      "cell_type": "code",
      "source": [
        "#Função anonima\n",
        "y = apply_to_one(lambda x: x + 4)\n",
        "def another_double(x):\n",
        "  return 2 * x\n",
        "\n",
        "print(f\"{another_double(2)}\")"
      ],
      "metadata": {
        "colab": {
          "base_uri": "https://localhost:8080/"
        },
        "id": "x6q2sCM9XKof",
        "outputId": "61f84214-a2f5-4030-fa90-92e8addcbfc1"
      },
      "execution_count": null,
      "outputs": [
        {
          "output_type": "stream",
          "name": "stdout",
          "text": [
            "4\n"
          ]
        }
      ]
    },
    {
      "cell_type": "code",
      "source": [
        "#Função com argumentos padrão\n",
        "def my_print(message = \"my default message\"):\n",
        "  print(message)\n",
        "\n",
        "my_print(\"hello\")\n",
        "my_print()"
      ],
      "metadata": {
        "colab": {
          "base_uri": "https://localhost:8080/"
        },
        "id": "1hvbIGKiYPP4",
        "outputId": "5a333596-7c05-44d2-fc44-6c9163c01b22"
      },
      "execution_count": null,
      "outputs": [
        {
          "output_type": "stream",
          "name": "stdout",
          "text": [
            "hello\n",
            "my default message\n"
          ]
        }
      ]
    },
    {
      "cell_type": "code",
      "source": [
        "def my_full_name(first = \"Whats-his-name\", last = \"Something\"):\n",
        "  return first + \" \" + last\n",
        "\n",
        "my_full_name(\"Joel\", \"Grus\")\n",
        "my_full_name(\"Joel\")\n",
        "my_full_name(last=\"Grus\")"
      ],
      "metadata": {
        "colab": {
          "base_uri": "https://localhost:8080/",
          "height": 36
        },
        "id": "E37LTLjPZAyK",
        "outputId": "4323beef-68f3-432e-e39f-594f1dad12bc"
      },
      "execution_count": null,
      "outputs": [
        {
          "output_type": "execute_result",
          "data": {
            "text/plain": [
              "'Whats-his-name Grus'"
            ],
            "application/vnd.google.colaboratory.intrinsic+json": {
              "type": "string"
            }
          },
          "metadata": {},
          "execution_count": 23
        }
      ]
    },
    {
      "cell_type": "markdown",
      "source": [
        "STRINGS"
      ],
      "metadata": {
        "id": "AXOHj1vBZXWQ"
      }
    },
    {
      "cell_type": "code",
      "source": [
        "#Strings de várias linhas\n",
        "multi_line_string = \"\"\"Essa é a primeira linha.\n",
        "Essa é a segunda linha.\n",
        "Essa é a terceira linha.\"\"\"\n",
        "print(multi_line_string)"
      ],
      "metadata": {
        "colab": {
          "base_uri": "https://localhost:8080/"
        },
        "id": "n32kw8u4ZQvF",
        "outputId": "79af6b58-03cf-412e-ee1b-a2c903c2e1be"
      },
      "execution_count": null,
      "outputs": [
        {
          "output_type": "stream",
          "name": "stdout",
          "text": [
            "Essa é a primeira linha.\n",
            "Essa é a segunda linha.\n",
            "Essa é a terceira linha.\n"
          ]
        }
      ]
    },
    {
      "cell_type": "code",
      "source": [
        "#Adição de strings\n",
        "first_name = \"Joel\"\n",
        "last_name = \"Grus\"\n",
        "full_name1 = first_name + \" \" + last_name\n",
        "full_name2 = \"{0} {1}\".format(first_name, last_name)\n",
        "full_name3 = f\"{first_name} {last_name}\""
      ],
      "metadata": {
        "id": "03PKwLvvZum0"
      },
      "execution_count": null,
      "outputs": []
    },
    {
      "cell_type": "markdown",
      "source": [
        "Exceções"
      ],
      "metadata": {
        "id": "VMlLJRT3addf"
      }
    },
    {
      "cell_type": "code",
      "source": [
        "try:\n",
        "  print(0/0)\n",
        "except ZeroDivisionError:\n",
        "  print(\"cannot divide by zero\")"
      ],
      "metadata": {
        "colab": {
          "base_uri": "https://localhost:8080/"
        },
        "id": "puHUq6yTafrL",
        "outputId": "70fd8133-00bd-4377-bd43-e28b5d68860e"
      },
      "execution_count": null,
      "outputs": [
        {
          "output_type": "stream",
          "name": "stdout",
          "text": [
            "cannot divide by zero\n"
          ]
        }
      ]
    },
    {
      "cell_type": "markdown",
      "source": [
        "Listas"
      ],
      "metadata": {
        "id": "Mb_11ELkhERR"
      }
    },
    {
      "cell_type": "code",
      "source": [
        "integer_list = [1, 2, 3]\n",
        "heterogeneous_list =[\"string\", 0.1, True]\n",
        "list_of_lists = [integer_list, heterogeneous_list, []]\n",
        "list_lenght = len(integer_list)\n",
        "list_sum = sum(integer_list)"
      ],
      "metadata": {
        "id": "JgJC24hahFNv"
      },
      "execution_count": 31,
      "outputs": []
    },
    {
      "cell_type": "code",
      "source": [
        "1 in [1, 2, 3]\n",
        "0 in [1, 2, 3]"
      ],
      "metadata": {
        "colab": {
          "base_uri": "https://localhost:8080/"
        },
        "id": "xjzejY8biCPE",
        "outputId": "9e74fc2a-02e2-407b-e12d-fe3a4c067273"
      },
      "execution_count": 32,
      "outputs": [
        {
          "output_type": "execute_result",
          "data": {
            "text/plain": [
              "False"
            ]
          },
          "metadata": {},
          "execution_count": 32
        }
      ]
    },
    {
      "cell_type": "code",
      "source": [
        "#Concatenando listas\n",
        "x = [1, 2, 3]\n",
        "x.extend([4, 5, 6])\n",
        "\n",
        "#Sem modificar\n",
        "y = x + [7, 8, 9]\n",
        "\n",
        "#Um elemento por vez\n",
        "x.append(10)\n",
        "print(y)\n",
        "print(x)"
      ],
      "metadata": {
        "colab": {
          "base_uri": "https://localhost:8080/"
        },
        "id": "zgqB0ufyiISL",
        "outputId": "bca40bed-6819-4420-d4c8-e1408b6e94fa"
      },
      "execution_count": 35,
      "outputs": [
        {
          "output_type": "stream",
          "name": "stdout",
          "text": [
            "[1, 2, 3, 4, 5, 6, 7, 8, 9]\n",
            "[1, 2, 3, 4, 5, 6, 10]\n"
          ]
        }
      ]
    },
    {
      "cell_type": "code",
      "source": [
        "#Descompactar listas (exclusivo para quando sabendo a len da lista)\n",
        "\n",
        "x, y = [1, 2]\n",
        "\n",
        "#Descartando um valor\n",
        "_, z = [1, 2]\n",
        "\n",
        "print(x, y, z)"
      ],
      "metadata": {
        "colab": {
          "base_uri": "https://localhost:8080/"
        },
        "id": "xkCgXXH5is0j",
        "outputId": "b8b4261d-54fb-4f9c-e994-01ee46a62387"
      },
      "execution_count": 37,
      "outputs": [
        {
          "output_type": "stream",
          "name": "stdout",
          "text": [
            "1 2 2\n"
          ]
        }
      ]
    },
    {
      "cell_type": "markdown",
      "source": [
        "Tuplas"
      ],
      "metadata": {
        "id": "n0ZpG_TSjbqP"
      }
    },
    {
      "cell_type": "code",
      "source": [
        "my_tuple = (1, 3)\n",
        "\n",
        "try:\n",
        "  my_tuple[1] = 3\n",
        "except TypeError:\n",
        "  print(\"cannot modify a tuple\")                           "
      ],
      "metadata": {
        "colab": {
          "base_uri": "https://localhost:8080/"
        },
        "id": "H9z4eQ2ojdIh",
        "outputId": "5f7c8a9e-1ac5-418f-b3e1-a7726faffcda"
      },
      "execution_count": 39,
      "outputs": [
        {
          "output_type": "stream",
          "name": "stdout",
          "text": [
            "cannot modify a tuple\n"
          ]
        }
      ]
    },
    {
      "cell_type": "code",
      "source": [
        "#Usando tuplas em funções\n",
        "def sum_and_product(x, y):\n",
        "  return (x + y), (x * y)\n",
        "\n",
        "sp = sum_and_product(2, 3)\n",
        "s, p = sum_and_product(5, 10)"
      ],
      "metadata": {
        "id": "DG23xlgTpKQE"
      },
      "execution_count": 40,
      "outputs": []
    },
    {
      "cell_type": "code",
      "source": [
        "#Atribuições\n",
        "x, y = 1, 2\n",
        "x, y = y, x\n",
        "\n",
        "print(x, y)\n",
        "print(sp)\n",
        "print(s, p)"
      ],
      "metadata": {
        "colab": {
          "base_uri": "https://localhost:8080/"
        },
        "id": "6WLvAO8ep31k",
        "outputId": "12240d2c-cc8b-416c-bcb6-f164798f12f0"
      },
      "execution_count": 41,
      "outputs": [
        {
          "output_type": "stream",
          "name": "stdout",
          "text": [
            "2 1\n",
            "(5, 6)\n",
            "15 50\n"
          ]
        }
      ]
    },
    {
      "cell_type": "markdown",
      "source": [
        "Dicionários"
      ],
      "metadata": {
        "id": "YUKDD1R4qFnX"
      }
    },
    {
      "cell_type": "code",
      "source": [
        "empty_dict = {}\n",
        "empty_dict2 = ()\n",
        "grades = {\"Joel\": 80, \"Tim\": 95}\n",
        "\n",
        "joels_grade = grades[\"Joel\"]\n",
        "print(joels_grade)\n",
        "\n",
        "try:\n",
        "  kates_grade = grades[\"Kate\"]\n",
        "except KeyError:\n",
        "  print(\"no grade for Kate!\")"
      ],
      "metadata": {
        "colab": {
          "base_uri": "https://localhost:8080/"
        },
        "id": "Kl6s-0ClqHK-",
        "outputId": "5a2ceade-f918-4a61-859e-da6ec7f1d3d6"
      },
      "execution_count": 46,
      "outputs": [
        {
          "output_type": "stream",
          "name": "stdout",
          "text": [
            "80\n",
            "no grade for Kate!\n"
          ]
        }
      ]
    },
    {
      "cell_type": "code",
      "source": [
        "#Verificando a existência de uma grade\n",
        "joel_has_grade = \"Joel\" in grades\n",
        "kate_has_grade = \"Kate\" in grades\n",
        "\n",
        "print(f\"{joel_has_grade}, {kate_has_grade}\")"
      ],
      "metadata": {
        "colab": {
          "base_uri": "https://localhost:8080/"
        },
        "id": "KWFARwLdtDzQ",
        "outputId": "2c346dbc-4e07-4c5e-a7ff-e3de7cd44393"
      },
      "execution_count": 50,
      "outputs": [
        {
          "output_type": "stream",
          "name": "stdout",
          "text": [
            "True, False\n"
          ]
        }
      ]
    },
    {
      "cell_type": "code",
      "source": [
        "#Método Get\n",
        "joels_grade = grades.get(\"Joel\", 0)\n",
        "kates_grade = grades.get(\"Kate\", 0)\n",
        "no_one_grade = grades.get(\"No One\")\n",
        "\n",
        "print(f\"{joels_grade}, {kates_grade}, {no_one_grade}\")"
      ],
      "metadata": {
        "colab": {
          "base_uri": "https://localhost:8080/"
        },
        "id": "ZpMRk0BhtcqD",
        "outputId": "e7cc793a-e3c6-4b6d-d72c-08d63edecefa"
      },
      "execution_count": 52,
      "outputs": [
        {
          "output_type": "stream",
          "name": "stdout",
          "text": [
            "80, 0, None\n"
          ]
        }
      ]
    },
    {
      "cell_type": "code",
      "source": [
        "grades[\"Tim\"] = 99\n",
        "grades[\"Kate\"] = 100\n",
        "num_students = len(grades)"
      ],
      "metadata": {
        "id": "i1mgG9XvuK6C"
      },
      "execution_count": 53,
      "outputs": []
    },
    {
      "cell_type": "code",
      "source": [],
      "metadata": {
        "id": "BrcvmK--uVxg"
      },
      "execution_count": null,
      "outputs": []
    }
  ]
}