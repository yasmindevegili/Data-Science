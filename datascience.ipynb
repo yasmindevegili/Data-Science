{
  "nbformat": 4,
  "nbformat_minor": 0,
  "metadata": {
    "colab": {
      "provenance": [],
      "authorship_tag": "ABX9TyPznxv0IsXUKGB0NFfV1qiS",
      "include_colab_link": true
    },
    "kernelspec": {
      "name": "python3",
      "display_name": "Python 3"
    },
    "language_info": {
      "name": "python"
    }
  },
  "cells": [
    {
      "cell_type": "markdown",
      "metadata": {
        "id": "view-in-github",
        "colab_type": "text"
      },
      "source": [
        "<a href=\"https://colab.research.google.com/github/yasmindevegili/Data-Science/blob/main/datascience.ipynb\" target=\"_parent\"><img src=\"https://colab.research.google.com/assets/colab-badge.svg\" alt=\"Open In Colab\"/></a>"
      ]
    },
    {
      "cell_type": "markdown",
      "source": [
        "# Dump de Usuários"
      ],
      "metadata": {
        "id": "JRXehqQJfq2_"
      }
    },
    {
      "cell_type": "code",
      "execution_count": 40,
      "metadata": {
        "id": "LvUNOlOM_vIN"
      },
      "outputs": [],
      "source": [
        "users = [\n",
        "    {\"id\": 0, \"name\": \"Hero\"},\n",
        "    {\"id\": 1, \"name\": \"Dunn\"},\n",
        "    {\"id\": 2, \"name\": \"Sue\"},\n",
        "    {\"id\": 3, \"name\": \"Chi\"},\n",
        "    {\"id\": 4, \"name\": \"Thor\"},\n",
        "    {\"id\": 5, \"name\": \"Clive\"},\n",
        "    {\"id\": 6, \"name\": \"Hicks\"},\n",
        "    {\"id\": 7, \"name\": \"Devin\"},\n",
        "    {\"id\": 8, \"name\": \"Kate\"},\n",
        "    {\"id\": 9, \"name\": \"Klein\"}\n",
        "]"
      ]
    },
    {
      "cell_type": "markdown",
      "source": [
        "## Dump de amizades"
      ],
      "metadata": {
        "id": "5ztSEsRYgEkb"
      }
    },
    {
      "cell_type": "code",
      "source": [
        "friendship_pairs = [(0, 1), (0, 2), (1, 2), (1, 3), (2, 3), (3, 4), (4, 5), (5, 6), (5, 7), (6, 8), (7, 8), (8, 9)]"
      ],
      "metadata": {
        "id": "4XzqpmsxCCWE"
      },
      "execution_count": 41,
      "outputs": []
    },
    {
      "cell_type": "code",
      "source": [
        "#Init um dict com uma lista vazia para cada id\n",
        "friendships = {user[\"id\"]: [] for user in users}"
      ],
      "metadata": {
        "id": "dWgoxRm_CjT_"
      },
      "execution_count": 42,
      "outputs": []
    },
    {
      "cell_type": "code",
      "source": [
        "#Loop pelos pares de amigos para preencher a lista\n",
        "for i, j in friendship_pairs:\n",
        "  friendships[i].append(j) #adiciona j como amigo de i\n",
        "  friendships[j].append(i) #adiciona i como amigo de j"
      ],
      "metadata": {
        "id": "8ExCL0doC6HU"
      },
      "execution_count": 43,
      "outputs": []
    },
    {
      "cell_type": "code",
      "source": [
        "#Qual o número médio de conexões?\n",
        "def number_of_friends(user):\n",
        "  user_id = user[\"id\"]\n",
        "  friend_ids = friendships[user_id]\n",
        "  return len(friend_ids)\n",
        "\n",
        "total_connections = sum(number_of_friends(user) for user in users)\n",
        "num_users = len(users)\n",
        "avg_connections = total_connections / num_users"
      ],
      "metadata": {
        "id": "yIq4AXdfDVTK"
      },
      "execution_count": 44,
      "outputs": []
    },
    {
      "cell_type": "code",
      "source": [
        "print(f\"O número total de conexões é: {total_connections}\")\n",
        "print(f\"O número total de usuários é: {num_users}\")\n",
        "print(f\"O número médio de conexões é: {avg_connections}\")"
      ],
      "metadata": {
        "colab": {
          "base_uri": "https://localhost:8080/"
        },
        "id": "CKmZBPauEsin",
        "outputId": "4cadc5a0-0f51-4c1c-b6de-73be8c2af7c9"
      },
      "execution_count": 45,
      "outputs": [
        {
          "output_type": "stream",
          "name": "stdout",
          "text": [
            "O número total de conexões é: 24\n",
            "O número total de usuários é: 10\n",
            "O número médio de conexões é: 2.4\n"
          ]
        }
      ]
    },
    {
      "cell_type": "code",
      "source": [
        "#Quem são as pessoas com mais conexões?\n",
        "#Crie uma lista (user_id, number_of_friends)\n",
        "num_friends_by_id = [(user[\"id\"], number_of_friends(user)) for user in users]\n",
        "\n",
        "#Classifique a lista por num_friends do maior para o menor\n",
        "num_friends_by_id.sort(key=lambda id_and_friends: id_and_friends[1], reverse=True)"
      ],
      "metadata": {
        "id": "-9NSmdnfFPOg"
      },
      "execution_count": 46,
      "outputs": []
    },
    {
      "cell_type": "code",
      "source": [
        "#Usuário com maior quantidade de conexões, quantas conexões\n",
        "print(num_friends_by_id[:])"
      ],
      "metadata": {
        "colab": {
          "base_uri": "https://localhost:8080/"
        },
        "id": "GoYG8xEzGPlA",
        "outputId": "cbdd4d5e-0beb-4d82-b2fd-7cf5dacacf46"
      },
      "execution_count": 47,
      "outputs": [
        {
          "output_type": "stream",
          "name": "stdout",
          "text": [
            "[(1, 3), (2, 3), (3, 3), (5, 3), (8, 3), (0, 2), (4, 2), (6, 2), (7, 2), (9, 1)]\n"
          ]
        }
      ]
    },
    {
      "cell_type": "code",
      "source": [
        "#Pessoas que você talvez conheça:\n",
        "def foaf_ids_bad(user):\n",
        "  return [foaf_id for friend_id in friendships[user[\"id\"]] for foaf_id in friendships[friend_id]]"
      ],
      "metadata": {
        "id": "6BJC-fatOoXR"
      },
      "execution_count": 48,
      "outputs": []
    },
    {
      "cell_type": "code",
      "source": [
        "#Chamando users\n",
        "print(foaf_ids_bad(users[0]))\n",
        "print(friendships[0])\n",
        "print(friendships[1])\n",
        "print(friendships[2])"
      ],
      "metadata": {
        "colab": {
          "base_uri": "https://localhost:8080/"
        },
        "id": "laI8K1QXPLot",
        "outputId": "d4c769e9-a5b8-43ca-9961-2620eab2d19c"
      },
      "execution_count": 54,
      "outputs": [
        {
          "output_type": "stream",
          "name": "stdout",
          "text": [
            "[0, 2, 3, 0, 1, 3]\n",
            "[1, 2]\n",
            "[0, 2, 3]\n",
            "[0, 1, 3]\n"
          ]
        }
      ]
    },
    {
      "cell_type": "code",
      "source": [
        "#Gerar contangem de amigos em comum\n",
        "\n",
        "from collections import Counter\n",
        "\n",
        "def friends_of_friends(user):\n",
        "  user_id = user[\"id\"]\n",
        "  return Counter(\n",
        "      foaf_id\n",
        "      for friend_id in friendships[user_id] #Para que cada amigo meu\n",
        "      for foaf_id in friendships[friend_id] #encontre os amigos dele\n",
        "      if foaf_id != user_id #que não sejam eu\n",
        "      and foaf_id not in friendships[user_id] #e nem meus amigos\n",
        "  )"
      ],
      "metadata": {
        "id": "Pp_Yk87NQjgm"
      },
      "execution_count": 55,
      "outputs": []
    },
    {
      "cell_type": "code",
      "source": [
        "#Usando a função\n",
        "print(friends_of_friends(users[3]))"
      ],
      "metadata": {
        "colab": {
          "base_uri": "https://localhost:8080/"
        },
        "id": "o3vEdh2pRmsa",
        "outputId": "c4ce341e-e233-40f4-bce0-03294c4c2176"
      },
      "execution_count": 57,
      "outputs": [
        {
          "output_type": "stream",
          "name": "stdout",
          "text": [
            "Counter({0: 2, 5: 1})\n"
          ]
        }
      ]
    },
    {
      "cell_type": "markdown",
      "source": [
        "## Dump de interesses por Usuário"
      ],
      "metadata": {
        "id": "lvU-WG8WgVZm"
      }
    },
    {
      "cell_type": "code",
      "source": [
        "interests = [\n",
        "    (0, \"Hadoop\"), (0, \"Big Data\"), (0, \"HBase\"), (0, \"Java\"),\n",
        "    (0, \"Spark\"), (0, \"Storm\"), (0, \"Cassandra\"),\n",
        "    (1, \"NoSQL\"), (1, \"MongoDB\"), (1, \"Cassandra\"), (1, \"HBase\"),\n",
        "    (1, \"Postgres\"), (2, \"Python\"), (2, \"scikit-learn\"), (2, \"scipy\"),\n",
        "    (2, \"numpy\"), (2, \"statsmodels\"), (2, \"pandas\"), (3, \"R\"), (3, \"Python\"),\n",
        "    (3, \"statistics\"), (3, \"regression\"), (3, \"probability\"),\n",
        "    (4, \"machine learning\"), (4, \"regression\"), (4, \"decision trees\"),\n",
        "    (4, \"libsvm\"), (5, \"Python\"), (5, \"R\"), (5, \"Java\"), (5, \"C++\"),\n",
        "    (5, \"Haskell\"), (5, \"programming languages\"), (6, \"statistics\"),\n",
        "    (6, \"probability\"), (6, \"mathematics\"), (6, \"theory\"), (7, \"machine learning\"),\n",
        "    (7, \"scikit-learn\"), (7, \"Mahout\"), (7, \"neural networks\"), (8, \"neural networks\"),\n",
        "    (8, \"deep learning\"), (8, \"Big Data\"), (8, \"artificial intelligence\"), (9, \"Hadoop\"),\n",
        "    (9, \"Java\"), (9, \"MapReduce\"), (9, \"Big Data\")\n",
        "]"
      ],
      "metadata": {
        "id": "2rDbpKryR3a6"
      },
      "execution_count": 58,
      "outputs": []
    },
    {
      "cell_type": "code",
      "source": [
        "#Func para encontrar usuários com mesmo interesse\n",
        "def data_scientists_who_like(target_interest):\n",
        "  return [user_id for user_id, user_interest in interests\n",
        "          if user_interest == target_interest]"
      ],
      "metadata": {
        "id": "9kGhG7emVVh9"
      },
      "execution_count": 59,
      "outputs": []
    },
    {
      "cell_type": "code",
      "source": [
        "#Construindo índice de interesses para facilitar a busca\n",
        "\n",
        "from collections import defaultdict\n",
        "\n",
        "#As chaves são interesses, os valores são listas de users_ids com o interesse em questão\n",
        "user_ids_by_interest = defaultdict(list)\n",
        "\n",
        "for user_id, interest in interests:\n",
        "  user_ids_by_interest[interest].append(user_id)"
      ],
      "metadata": {
        "id": "poWZ5KtYVymN"
      },
      "execution_count": 60,
      "outputs": []
    },
    {
      "cell_type": "code",
      "source": [
        "#Construindo um índice de usuários para interesses\n",
        "interests_by_user_id = defaultdict(list)\n",
        "\n",
        "for user_id, interest in interests:\n",
        "  interests_by_user_id[user_id].append(interest)"
      ],
      "metadata": {
        "id": "s64XogYkaTMh"
      },
      "execution_count": 61,
      "outputs": []
    },
    {
      "cell_type": "code",
      "source": [
        "#Quem tem mais interesses em comum com quem?\n",
        "def most_common_interests_with(user):\n",
        "  return Counter(\n",
        "      interested_user_id\n",
        "      for interests in interests_by_user_id[user[\"id\"]]\n",
        "      for interested_user_id in user_ids_by_interest[interest]\n",
        "      if interested_user_id != user[\"id\"]\n",
        "  )"
      ],
      "metadata": {
        "id": "lxBx5pe6a7XE"
      },
      "execution_count": 65,
      "outputs": []
    },
    {
      "cell_type": "code",
      "source": [
        "#Usando a func\n",
        "print(most_common_interests_with(users[0]))"
      ],
      "metadata": {
        "colab": {
          "base_uri": "https://localhost:8080/"
        },
        "id": "GNDChrdhb6ZD",
        "outputId": "f7b62567-28cc-4359-fb4a-0713e2d4cedc"
      },
      "execution_count": 75,
      "outputs": [
        {
          "output_type": "stream",
          "name": "stdout",
          "text": [
            "Counter({8: 7, 9: 7})\n"
          ]
        }
      ]
    },
    {
      "cell_type": "markdown",
      "source": [
        "## Dump de Salários e Anos de Experiência"
      ],
      "metadata": {
        "id": "YzJ13BBWgePp"
      }
    },
    {
      "cell_type": "code",
      "source": [
        "salaries_and_tenures = [\n",
        "    (83000, 8.7), (88000, 8.1),\n",
        "    (48000, 0.7), (76000, 6),\n",
        "    (69000, 6.5), (76000, 7.5),\n",
        "    (60000, 2.5), (83000, 10),\n",
        "    (48000, 1.9), (63000, 4.2)]"
      ],
      "metadata": {
        "id": "9waK6UKEdNth"
      },
      "execution_count": 79,
      "outputs": []
    },
    {
      "cell_type": "code",
      "source": [
        "#As chaves são anos, os valores são listas de salários por anos de experiência\n",
        "salary_by_tenure = defaultdict(list)\n",
        "\n",
        "for salary, tenure in salaries_and_tenures:\n",
        "  salary_by_tenure[tenure].append(salary)\n",
        "\n",
        "#As chaves são anos, cada valor é o salário médio associado ao número de anos de experiência\n",
        "avg_salary_by_tenure = {\n",
        "    tenure: sum(salaries) / len(salaries)\n",
        "    for tenure, salaries in salary_by_tenure.items()\n",
        "} "
      ],
      "metadata": {
        "id": "hQHViW6feGLM"
      },
      "execution_count": 81,
      "outputs": []
    },
    {
      "cell_type": "code",
      "source": [
        "print(avg_salary_by_tenure)"
      ],
      "metadata": {
        "colab": {
          "base_uri": "https://localhost:8080/"
        },
        "id": "7UxiuZFDgw38",
        "outputId": "b9f7618b-02f6-42af-cd5d-4337b5dd3a2f"
      },
      "execution_count": 88,
      "outputs": [
        {
          "output_type": "stream",
          "name": "stdout",
          "text": [
            "{8.7: 83000.0, 8.1: 88000.0, 0.7: 48000.0, 6: 76000.0, 6.5: 69000.0, 7.5: 76000.0, 2.5: 60000.0, 10: 83000.0, 1.9: 48000.0, 4.2: 63000.0}\n"
          ]
        }
      ]
    },
    {
      "cell_type": "code",
      "source": [
        "#Bucket de experiência\n",
        "def tenure_bucket(tenure):\n",
        "  if tenure < 2:\n",
        "    return 'less than two'\n",
        "  elif tenure < 5:\n",
        "    return 'between two and five'\n",
        "  else:\n",
        "    return 'more than five'\n"
      ],
      "metadata": {
        "id": "Hyfe3n2bhRuw"
      },
      "execution_count": 89,
      "outputs": []
    },
    {
      "cell_type": "code",
      "source": [],
      "metadata": {
        "id": "bLR0hoc7hsPg"
      },
      "execution_count": null,
      "outputs": []
    }
  ]
}